{
 "cells": [
  {
   "cell_type": "code",
   "execution_count": 143,
   "id": "initial_id",
   "metadata": {
    "ExecuteTime": {
     "end_time": "2023-11-02T12:40:08.398549500Z",
     "start_time": "2023-11-02T12:40:08.097291700Z"
    },
    "collapsed": true
   },
   "outputs": [],
   "source": [
    "import pandas as pd\n",
    "import numpy as np\n",
    "from sklearn.model_selection import train_test_split\n",
    "from sklearn.ensemble import RandomForestClassifier\n",
    "from sklearn.metrics import confusion_matrix,roc_curve, auc, classification_report, roc_auc_score\n",
    "from sklearn.metrics import accuracy_score\n",
    "from sklearn.model_selection import GridSearchCV\n",
    "from xgboost import XGBRFClassifier\n",
    "import seaborn as sns\n",
    "import matplotlib.pyplot as plt\n",
    "import category_encoders as ce\n",
    "import warnings\n",
    "warnings.filterwarnings('ignore')"
   ]
  },
  {
   "cell_type": "code",
   "execution_count": 144,
   "id": "5546c04c00bded91",
   "metadata": {
    "ExecuteTime": {
     "end_time": "2023-11-02T12:40:08.491057600Z",
     "start_time": "2023-11-02T12:40:08.117635Z"
    }
   },
   "outputs": [],
   "source": [
    "df = pd.read_csv('car_evaluation.csv', header=None)"
   ]
  },
  {
   "cell_type": "code",
   "execution_count": 145,
   "id": "b8a91f569f64b772",
   "metadata": {
    "ExecuteTime": {
     "end_time": "2023-11-02T12:40:08.554542900Z",
     "start_time": "2023-11-02T12:40:08.139901700Z"
    }
   },
   "outputs": [
    {
     "data": {
      "text/html": [
       "<div>\n",
       "<style scoped>\n",
       "    .dataframe tbody tr th:only-of-type {\n",
       "        vertical-align: middle;\n",
       "    }\n",
       "\n",
       "    .dataframe tbody tr th {\n",
       "        vertical-align: top;\n",
       "    }\n",
       "\n",
       "    .dataframe thead th {\n",
       "        text-align: right;\n",
       "    }\n",
       "</style>\n",
       "<table border=\"1\" class=\"dataframe\">\n",
       "  <thead>\n",
       "    <tr style=\"text-align: right;\">\n",
       "      <th></th>\n",
       "      <th>0</th>\n",
       "      <th>1</th>\n",
       "      <th>2</th>\n",
       "      <th>3</th>\n",
       "      <th>4</th>\n",
       "      <th>5</th>\n",
       "      <th>6</th>\n",
       "    </tr>\n",
       "  </thead>\n",
       "  <tbody>\n",
       "    <tr>\n",
       "      <th>0</th>\n",
       "      <td>vhigh</td>\n",
       "      <td>vhigh</td>\n",
       "      <td>2</td>\n",
       "      <td>2</td>\n",
       "      <td>small</td>\n",
       "      <td>low</td>\n",
       "      <td>unacc</td>\n",
       "    </tr>\n",
       "    <tr>\n",
       "      <th>1</th>\n",
       "      <td>vhigh</td>\n",
       "      <td>vhigh</td>\n",
       "      <td>2</td>\n",
       "      <td>2</td>\n",
       "      <td>small</td>\n",
       "      <td>med</td>\n",
       "      <td>unacc</td>\n",
       "    </tr>\n",
       "    <tr>\n",
       "      <th>2</th>\n",
       "      <td>vhigh</td>\n",
       "      <td>vhigh</td>\n",
       "      <td>2</td>\n",
       "      <td>2</td>\n",
       "      <td>small</td>\n",
       "      <td>high</td>\n",
       "      <td>unacc</td>\n",
       "    </tr>\n",
       "    <tr>\n",
       "      <th>3</th>\n",
       "      <td>vhigh</td>\n",
       "      <td>vhigh</td>\n",
       "      <td>2</td>\n",
       "      <td>2</td>\n",
       "      <td>med</td>\n",
       "      <td>low</td>\n",
       "      <td>unacc</td>\n",
       "    </tr>\n",
       "    <tr>\n",
       "      <th>4</th>\n",
       "      <td>vhigh</td>\n",
       "      <td>vhigh</td>\n",
       "      <td>2</td>\n",
       "      <td>2</td>\n",
       "      <td>med</td>\n",
       "      <td>med</td>\n",
       "      <td>unacc</td>\n",
       "    </tr>\n",
       "    <tr>\n",
       "      <th>...</th>\n",
       "      <td>...</td>\n",
       "      <td>...</td>\n",
       "      <td>...</td>\n",
       "      <td>...</td>\n",
       "      <td>...</td>\n",
       "      <td>...</td>\n",
       "      <td>...</td>\n",
       "    </tr>\n",
       "    <tr>\n",
       "      <th>1723</th>\n",
       "      <td>low</td>\n",
       "      <td>low</td>\n",
       "      <td>5more</td>\n",
       "      <td>more</td>\n",
       "      <td>med</td>\n",
       "      <td>med</td>\n",
       "      <td>good</td>\n",
       "    </tr>\n",
       "    <tr>\n",
       "      <th>1724</th>\n",
       "      <td>low</td>\n",
       "      <td>low</td>\n",
       "      <td>5more</td>\n",
       "      <td>more</td>\n",
       "      <td>med</td>\n",
       "      <td>high</td>\n",
       "      <td>vgood</td>\n",
       "    </tr>\n",
       "    <tr>\n",
       "      <th>1725</th>\n",
       "      <td>low</td>\n",
       "      <td>low</td>\n",
       "      <td>5more</td>\n",
       "      <td>more</td>\n",
       "      <td>big</td>\n",
       "      <td>low</td>\n",
       "      <td>unacc</td>\n",
       "    </tr>\n",
       "    <tr>\n",
       "      <th>1726</th>\n",
       "      <td>low</td>\n",
       "      <td>low</td>\n",
       "      <td>5more</td>\n",
       "      <td>more</td>\n",
       "      <td>big</td>\n",
       "      <td>med</td>\n",
       "      <td>good</td>\n",
       "    </tr>\n",
       "    <tr>\n",
       "      <th>1727</th>\n",
       "      <td>low</td>\n",
       "      <td>low</td>\n",
       "      <td>5more</td>\n",
       "      <td>more</td>\n",
       "      <td>big</td>\n",
       "      <td>high</td>\n",
       "      <td>vgood</td>\n",
       "    </tr>\n",
       "  </tbody>\n",
       "</table>\n",
       "<p>1728 rows × 7 columns</p>\n",
       "</div>"
      ],
      "text/plain": [
       "          0      1      2     3      4     5      6\n",
       "0     vhigh  vhigh      2     2  small   low  unacc\n",
       "1     vhigh  vhigh      2     2  small   med  unacc\n",
       "2     vhigh  vhigh      2     2  small  high  unacc\n",
       "3     vhigh  vhigh      2     2    med   low  unacc\n",
       "4     vhigh  vhigh      2     2    med   med  unacc\n",
       "...     ...    ...    ...   ...    ...   ...    ...\n",
       "1723    low    low  5more  more    med   med   good\n",
       "1724    low    low  5more  more    med  high  vgood\n",
       "1725    low    low  5more  more    big   low  unacc\n",
       "1726    low    low  5more  more    big   med   good\n",
       "1727    low    low  5more  more    big  high  vgood\n",
       "\n",
       "[1728 rows x 7 columns]"
      ]
     },
     "execution_count": 145,
     "metadata": {},
     "output_type": "execute_result"
    }
   ],
   "source": [
    "df"
   ]
  },
  {
   "cell_type": "code",
   "execution_count": 146,
   "id": "24802711ad033606",
   "metadata": {
    "ExecuteTime": {
     "end_time": "2023-11-02T12:40:08.558725200Z",
     "start_time": "2023-11-02T12:40:08.147462700Z"
    }
   },
   "outputs": [
    {
     "data": {
      "text/html": [
       "<div>\n",
       "<style scoped>\n",
       "    .dataframe tbody tr th:only-of-type {\n",
       "        vertical-align: middle;\n",
       "    }\n",
       "\n",
       "    .dataframe tbody tr th {\n",
       "        vertical-align: top;\n",
       "    }\n",
       "\n",
       "    .dataframe thead th {\n",
       "        text-align: right;\n",
       "    }\n",
       "</style>\n",
       "<table border=\"1\" class=\"dataframe\">\n",
       "  <thead>\n",
       "    <tr style=\"text-align: right;\">\n",
       "      <th></th>\n",
       "      <th>buying</th>\n",
       "      <th>meant</th>\n",
       "      <th>doors</th>\n",
       "      <th>persons</th>\n",
       "      <th>lug_boot</th>\n",
       "      <th>safety</th>\n",
       "      <th>class</th>\n",
       "    </tr>\n",
       "  </thead>\n",
       "  <tbody>\n",
       "    <tr>\n",
       "      <th>0</th>\n",
       "      <td>vhigh</td>\n",
       "      <td>vhigh</td>\n",
       "      <td>2</td>\n",
       "      <td>2</td>\n",
       "      <td>small</td>\n",
       "      <td>low</td>\n",
       "      <td>unacc</td>\n",
       "    </tr>\n",
       "    <tr>\n",
       "      <th>1</th>\n",
       "      <td>vhigh</td>\n",
       "      <td>vhigh</td>\n",
       "      <td>2</td>\n",
       "      <td>2</td>\n",
       "      <td>small</td>\n",
       "      <td>med</td>\n",
       "      <td>unacc</td>\n",
       "    </tr>\n",
       "    <tr>\n",
       "      <th>2</th>\n",
       "      <td>vhigh</td>\n",
       "      <td>vhigh</td>\n",
       "      <td>2</td>\n",
       "      <td>2</td>\n",
       "      <td>small</td>\n",
       "      <td>high</td>\n",
       "      <td>unacc</td>\n",
       "    </tr>\n",
       "    <tr>\n",
       "      <th>3</th>\n",
       "      <td>vhigh</td>\n",
       "      <td>vhigh</td>\n",
       "      <td>2</td>\n",
       "      <td>2</td>\n",
       "      <td>med</td>\n",
       "      <td>low</td>\n",
       "      <td>unacc</td>\n",
       "    </tr>\n",
       "    <tr>\n",
       "      <th>4</th>\n",
       "      <td>vhigh</td>\n",
       "      <td>vhigh</td>\n",
       "      <td>2</td>\n",
       "      <td>2</td>\n",
       "      <td>med</td>\n",
       "      <td>med</td>\n",
       "      <td>unacc</td>\n",
       "    </tr>\n",
       "  </tbody>\n",
       "</table>\n",
       "</div>"
      ],
      "text/plain": [
       "  buying  meant doors persons lug_boot safety  class\n",
       "0  vhigh  vhigh     2       2    small    low  unacc\n",
       "1  vhigh  vhigh     2       2    small    med  unacc\n",
       "2  vhigh  vhigh     2       2    small   high  unacc\n",
       "3  vhigh  vhigh     2       2      med    low  unacc\n",
       "4  vhigh  vhigh     2       2      med    med  unacc"
      ]
     },
     "execution_count": 146,
     "metadata": {},
     "output_type": "execute_result"
    }
   ],
   "source": [
    "df.columns =['buying', 'meant', 'doors', 'persons', 'lug_boot', 'safety', 'class']\n",
    "df.head()"
   ]
  },
  {
   "cell_type": "code",
   "execution_count": 147,
   "id": "45069015ec421f14",
   "metadata": {
    "ExecuteTime": {
     "end_time": "2023-11-02T12:40:08.558725200Z",
     "start_time": "2023-11-02T12:40:08.165167500Z"
    }
   },
   "outputs": [
    {
     "name": "stdout",
     "output_type": "stream",
     "text": [
      "<class 'pandas.core.frame.DataFrame'>\n",
      "RangeIndex: 1728 entries, 0 to 1727\n",
      "Data columns (total 7 columns):\n",
      " #   Column    Non-Null Count  Dtype \n",
      "---  ------    --------------  ----- \n",
      " 0   buying    1728 non-null   object\n",
      " 1   meant     1728 non-null   object\n",
      " 2   doors     1728 non-null   object\n",
      " 3   persons   1728 non-null   object\n",
      " 4   lug_boot  1728 non-null   object\n",
      " 5   safety    1728 non-null   object\n",
      " 6   class     1728 non-null   object\n",
      "dtypes: object(7)\n",
      "memory usage: 94.6+ KB\n"
     ]
    }
   ],
   "source": [
    "df.info()"
   ]
  },
  {
   "cell_type": "code",
   "execution_count": 148,
   "id": "501be672ab1270e8",
   "metadata": {
    "ExecuteTime": {
     "end_time": "2023-11-02T12:40:08.559728400Z",
     "start_time": "2023-11-02T12:40:08.183290400Z"
    }
   },
   "outputs": [
    {
     "data": {
      "text/plain": [
       "buying      0\n",
       "meant       0\n",
       "doors       0\n",
       "persons     0\n",
       "lug_boot    0\n",
       "safety      0\n",
       "class       0\n",
       "dtype: int64"
      ]
     },
     "execution_count": 148,
     "metadata": {},
     "output_type": "execute_result"
    }
   ],
   "source": [
    "df.isnull().sum()"
   ]
  },
  {
   "cell_type": "code",
   "execution_count": 149,
   "id": "3c60006142cd71da",
   "metadata": {
    "ExecuteTime": {
     "end_time": "2023-11-02T12:40:08.560730100Z",
     "start_time": "2023-11-02T12:40:08.194758200Z"
    }
   },
   "outputs": [
    {
     "data": {
      "text/plain": [
       "unacc    1210\n",
       "acc       384\n",
       "good       69\n",
       "vgood      65\n",
       "Name: class, dtype: int64"
      ]
     },
     "execution_count": 149,
     "metadata": {},
     "output_type": "execute_result"
    }
   ],
   "source": [
    "df['class'].value_counts()"
   ]
  },
  {
   "cell_type": "markdown",
   "id": "f3d2b260e4945de8",
   "metadata": {},
   "source": [
    "Data splitting"
   ]
  },
  {
   "cell_type": "code",
   "execution_count": 150,
   "id": "fc9efb1993609237",
   "metadata": {
    "ExecuteTime": {
     "end_time": "2023-11-02T12:40:08.569982Z",
     "start_time": "2023-11-02T12:40:08.211972400Z"
    }
   },
   "outputs": [],
   "source": [
    "X = df.drop([\"class\"], axis=1)\n",
    "y = df[\"class\"]\n",
    "X_train, X_test, y_train, y_test = train_test_split(X, y, test_size = 0.2, random_state=42)"
   ]
  },
  {
   "cell_type": "markdown",
   "id": "961f067cda3cf24e",
   "metadata": {},
   "source": [
    "Data encoding"
   ]
  },
  {
   "cell_type": "code",
   "execution_count": 151,
   "id": "e6f724998185f8be",
   "metadata": {
    "ExecuteTime": {
     "end_time": "2023-11-02T12:40:08.569982Z",
     "start_time": "2023-11-02T12:40:08.225622500Z"
    }
   },
   "outputs": [],
   "source": [
    "X_encoder = ce.OrdinalEncoder(cols=['buying', 'meant', 'doors', 'persons', 'lug_boot', 'safety'])\n",
    "\n",
    "X_train = X_encoder.fit_transform(X_train)\n",
    "X_test = X_encoder.transform(X_test)\n",
    "\n",
    "\n",
    "y_encoder = ce.OrdinalEncoder(cols=['class'])\n",
    "\n",
    "y_train = y_encoder.fit_transform(y_train)\n",
    "y_test = y_encoder.transform(y_test)"
   ]
  },
  {
   "cell_type": "code",
   "execution_count": 152,
   "id": "556a977f97a6c906",
   "metadata": {
    "ExecuteTime": {
     "end_time": "2023-11-02T12:40:08.571488Z",
     "start_time": "2023-11-02T12:40:08.277648200Z"
    }
   },
   "outputs": [
    {
     "data": {
      "text/html": [
       "<div>\n",
       "<style scoped>\n",
       "    .dataframe tbody tr th:only-of-type {\n",
       "        vertical-align: middle;\n",
       "    }\n",
       "\n",
       "    .dataframe tbody tr th {\n",
       "        vertical-align: top;\n",
       "    }\n",
       "\n",
       "    .dataframe thead th {\n",
       "        text-align: right;\n",
       "    }\n",
       "</style>\n",
       "<table border=\"1\" class=\"dataframe\">\n",
       "  <thead>\n",
       "    <tr style=\"text-align: right;\">\n",
       "      <th></th>\n",
       "      <th>buying</th>\n",
       "      <th>meant</th>\n",
       "      <th>doors</th>\n",
       "      <th>persons</th>\n",
       "      <th>lug_boot</th>\n",
       "      <th>safety</th>\n",
       "    </tr>\n",
       "  </thead>\n",
       "  <tbody>\n",
       "    <tr>\n",
       "      <th>107</th>\n",
       "      <td>1</td>\n",
       "      <td>1</td>\n",
       "      <td>1</td>\n",
       "      <td>1</td>\n",
       "      <td>1</td>\n",
       "      <td>1</td>\n",
       "    </tr>\n",
       "    <tr>\n",
       "      <th>901</th>\n",
       "      <td>2</td>\n",
       "      <td>1</td>\n",
       "      <td>2</td>\n",
       "      <td>2</td>\n",
       "      <td>2</td>\n",
       "      <td>2</td>\n",
       "    </tr>\n",
       "    <tr>\n",
       "      <th>1709</th>\n",
       "      <td>3</td>\n",
       "      <td>2</td>\n",
       "      <td>1</td>\n",
       "      <td>3</td>\n",
       "      <td>1</td>\n",
       "      <td>1</td>\n",
       "    </tr>\n",
       "    <tr>\n",
       "      <th>706</th>\n",
       "      <td>4</td>\n",
       "      <td>3</td>\n",
       "      <td>3</td>\n",
       "      <td>3</td>\n",
       "      <td>3</td>\n",
       "      <td>2</td>\n",
       "    </tr>\n",
       "    <tr>\n",
       "      <th>678</th>\n",
       "      <td>4</td>\n",
       "      <td>3</td>\n",
       "      <td>2</td>\n",
       "      <td>3</td>\n",
       "      <td>3</td>\n",
       "      <td>3</td>\n",
       "    </tr>\n",
       "    <tr>\n",
       "      <th>...</th>\n",
       "      <td>...</td>\n",
       "      <td>...</td>\n",
       "      <td>...</td>\n",
       "      <td>...</td>\n",
       "      <td>...</td>\n",
       "      <td>...</td>\n",
       "    </tr>\n",
       "    <tr>\n",
       "      <th>1130</th>\n",
       "      <td>2</td>\n",
       "      <td>3</td>\n",
       "      <td>2</td>\n",
       "      <td>1</td>\n",
       "      <td>3</td>\n",
       "      <td>1</td>\n",
       "    </tr>\n",
       "    <tr>\n",
       "      <th>1294</th>\n",
       "      <td>2</td>\n",
       "      <td>2</td>\n",
       "      <td>1</td>\n",
       "      <td>1</td>\n",
       "      <td>1</td>\n",
       "      <td>2</td>\n",
       "    </tr>\n",
       "    <tr>\n",
       "      <th>860</th>\n",
       "      <td>4</td>\n",
       "      <td>2</td>\n",
       "      <td>1</td>\n",
       "      <td>1</td>\n",
       "      <td>3</td>\n",
       "      <td>1</td>\n",
       "    </tr>\n",
       "    <tr>\n",
       "      <th>1459</th>\n",
       "      <td>3</td>\n",
       "      <td>4</td>\n",
       "      <td>3</td>\n",
       "      <td>3</td>\n",
       "      <td>2</td>\n",
       "      <td>2</td>\n",
       "    </tr>\n",
       "    <tr>\n",
       "      <th>1126</th>\n",
       "      <td>2</td>\n",
       "      <td>3</td>\n",
       "      <td>2</td>\n",
       "      <td>1</td>\n",
       "      <td>2</td>\n",
       "      <td>2</td>\n",
       "    </tr>\n",
       "  </tbody>\n",
       "</table>\n",
       "<p>1382 rows × 6 columns</p>\n",
       "</div>"
      ],
      "text/plain": [
       "      buying  meant  doors  persons  lug_boot  safety\n",
       "107        1      1      1        1         1       1\n",
       "901        2      1      2        2         2       2\n",
       "1709       3      2      1        3         1       1\n",
       "706        4      3      3        3         3       2\n",
       "678        4      3      2        3         3       3\n",
       "...      ...    ...    ...      ...       ...     ...\n",
       "1130       2      3      2        1         3       1\n",
       "1294       2      2      1        1         1       2\n",
       "860        4      2      1        1         3       1\n",
       "1459       3      4      3        3         2       2\n",
       "1126       2      3      2        1         2       2\n",
       "\n",
       "[1382 rows x 6 columns]"
      ]
     },
     "execution_count": 152,
     "metadata": {},
     "output_type": "execute_result"
    }
   ],
   "source": [
    "X_train"
   ]
  },
  {
   "cell_type": "code",
   "execution_count": 153,
   "id": "d30c2cac39c3419",
   "metadata": {
    "ExecuteTime": {
     "end_time": "2023-11-02T12:40:08.571488Z",
     "start_time": "2023-11-02T12:40:08.286261800Z"
    }
   },
   "outputs": [
    {
     "data": {
      "text/html": [
       "<div>\n",
       "<style scoped>\n",
       "    .dataframe tbody tr th:only-of-type {\n",
       "        vertical-align: middle;\n",
       "    }\n",
       "\n",
       "    .dataframe tbody tr th {\n",
       "        vertical-align: top;\n",
       "    }\n",
       "\n",
       "    .dataframe thead th {\n",
       "        text-align: right;\n",
       "    }\n",
       "</style>\n",
       "<table border=\"1\" class=\"dataframe\">\n",
       "  <thead>\n",
       "    <tr style=\"text-align: right;\">\n",
       "      <th></th>\n",
       "      <th>class</th>\n",
       "    </tr>\n",
       "  </thead>\n",
       "  <tbody>\n",
       "    <tr>\n",
       "      <th>599</th>\n",
       "      <td>1</td>\n",
       "    </tr>\n",
       "    <tr>\n",
       "      <th>1201</th>\n",
       "      <td>2</td>\n",
       "    </tr>\n",
       "    <tr>\n",
       "      <th>628</th>\n",
       "      <td>1</td>\n",
       "    </tr>\n",
       "    <tr>\n",
       "      <th>1498</th>\n",
       "      <td>2</td>\n",
       "    </tr>\n",
       "    <tr>\n",
       "      <th>1263</th>\n",
       "      <td>1</td>\n",
       "    </tr>\n",
       "    <tr>\n",
       "      <th>...</th>\n",
       "      <td>...</td>\n",
       "    </tr>\n",
       "    <tr>\n",
       "      <th>100</th>\n",
       "      <td>1</td>\n",
       "    </tr>\n",
       "    <tr>\n",
       "      <th>274</th>\n",
       "      <td>1</td>\n",
       "    </tr>\n",
       "    <tr>\n",
       "      <th>1206</th>\n",
       "      <td>1</td>\n",
       "    </tr>\n",
       "    <tr>\n",
       "      <th>101</th>\n",
       "      <td>1</td>\n",
       "    </tr>\n",
       "    <tr>\n",
       "      <th>1084</th>\n",
       "      <td>1</td>\n",
       "    </tr>\n",
       "  </tbody>\n",
       "</table>\n",
       "<p>346 rows × 1 columns</p>\n",
       "</div>"
      ],
      "text/plain": [
       "      class\n",
       "599       1\n",
       "1201      2\n",
       "628       1\n",
       "1498      2\n",
       "1263      1\n",
       "...     ...\n",
       "100       1\n",
       "274       1\n",
       "1206      1\n",
       "101       1\n",
       "1084      1\n",
       "\n",
       "[346 rows x 1 columns]"
      ]
     },
     "execution_count": 153,
     "metadata": {},
     "output_type": "execute_result"
    }
   ],
   "source": [
    "y_test"
   ]
  },
  {
   "cell_type": "code",
   "execution_count": 154,
   "id": "7086e987029d1bba",
   "metadata": {
    "ExecuteTime": {
     "end_time": "2023-11-02T12:40:08.571488Z",
     "start_time": "2023-11-02T12:40:08.305980100Z"
    }
   },
   "outputs": [
    {
     "data": {
      "text/html": [
       "<div>\n",
       "<style scoped>\n",
       "    .dataframe tbody tr th:only-of-type {\n",
       "        vertical-align: middle;\n",
       "    }\n",
       "\n",
       "    .dataframe tbody tr th {\n",
       "        vertical-align: top;\n",
       "    }\n",
       "\n",
       "    .dataframe thead th {\n",
       "        text-align: right;\n",
       "    }\n",
       "</style>\n",
       "<table border=\"1\" class=\"dataframe\">\n",
       "  <thead>\n",
       "    <tr style=\"text-align: right;\">\n",
       "      <th></th>\n",
       "      <th>class</th>\n",
       "    </tr>\n",
       "  </thead>\n",
       "  <tbody>\n",
       "    <tr>\n",
       "      <th>107</th>\n",
       "      <td>0</td>\n",
       "    </tr>\n",
       "    <tr>\n",
       "      <th>901</th>\n",
       "      <td>0</td>\n",
       "    </tr>\n",
       "    <tr>\n",
       "      <th>1709</th>\n",
       "      <td>0</td>\n",
       "    </tr>\n",
       "    <tr>\n",
       "      <th>706</th>\n",
       "      <td>0</td>\n",
       "    </tr>\n",
       "    <tr>\n",
       "      <th>678</th>\n",
       "      <td>0</td>\n",
       "    </tr>\n",
       "  </tbody>\n",
       "</table>\n",
       "</div>"
      ],
      "text/plain": [
       "      class\n",
       "107       0\n",
       "901       0\n",
       "1709      0\n",
       "706       0\n",
       "678       0"
      ]
     },
     "execution_count": 154,
     "metadata": {},
     "output_type": "execute_result"
    }
   ],
   "source": [
    "y_train['class'] = list(map(lambda x: x - 1, y_train['class']))\n",
    "y_test['class'] = list(map(lambda x: x - 1 , y_test['class']))\n",
    "y_train.head()"
   ]
  },
  {
   "cell_type": "markdown",
   "id": "6ed9b73ad0aa25b2",
   "metadata": {},
   "source": [
    "#### Random Forest"
   ]
  },
  {
   "cell_type": "code",
   "execution_count": 155,
   "id": "9d2487bae5319068",
   "metadata": {
    "ExecuteTime": {
     "end_time": "2023-11-02T12:40:08.650581700Z",
     "start_time": "2023-11-02T12:40:08.321669900Z"
    }
   },
   "outputs": [
    {
     "name": "stdout",
     "output_type": "stream",
     "text": [
      "Accuracy: 0.9653\n"
     ]
    }
   ],
   "source": [
    "clf = RandomForestClassifier()\n",
    "clf.fit(X_train, y_train)\n",
    "\n",
    "y_pred = clf.predict(X_test)\n",
    "\n",
    "print(f'Accuracy: {accuracy_score(y_test, y_pred):.4f}')\n"
   ]
  },
  {
   "cell_type": "code",
   "execution_count": 156,
   "id": "afae5b7882370a1",
   "metadata": {
    "ExecuteTime": {
     "end_time": "2023-11-02T12:40:08.670401300Z",
     "start_time": "2023-11-02T12:40:08.567891500Z"
    }
   },
   "outputs": [],
   "source": [
    "def get_confusion_matrix(y_test_, y_pred_):\n",
    "    cm = confusion_matrix(y_test_, y_pred_)\n",
    "    sns.heatmap(cm, annot=True, fmt='d', cmap='viridis')\n",
    "    plt.xlabel('Predicted')\n",
    "    plt.ylabel('Actual')\n",
    "    plt.title('Confusion Matrix')\n",
    "    plt.show()"
   ]
  },
  {
   "cell_type": "code",
   "execution_count": 157,
   "id": "5c67ad91b132828d",
   "metadata": {
    "ExecuteTime": {
     "end_time": "2023-11-02T12:40:08.956363300Z",
     "start_time": "2023-11-02T12:40:08.581626Z"
    }
   },
   "outputs": [
    {
     "data": {
      "image/png": "[encoded data removed]",
      "text/plain": [
       "<Figure size 640x480 with 2 Axes>"
      ]
     },
     "metadata": {},
     "output_type": "display_data"
    }
   ],
   "source": [
    "get_confusion_matrix(y_test, y_pred)"
   ]
  },
  {
   "cell_type": "code",
   "execution_count": 158,
   "id": "91a4c1a1f1e056c7",
   "metadata": {
    "ExecuteTime": {
     "end_time": "2023-11-02T12:40:08.956363300Z",
     "start_time": "2023-11-02T12:40:08.867446500Z"
    }
   },
   "outputs": [],
   "source": [
    "def get_roc_curve(y_test, y_pred):\n",
    "\n",
    "    fpr = dict()\n",
    "    tpr = dict()\n",
    "    roc_auc = dict()\n",
    "    n_classes = len(np.unique(y_test))\n",
    "    for i in range(n_classes):\n",
    "        fpr[i], tpr[i], _ = roc_curve((y_test == i).astype(int), y_pred[:, i])\n",
    "        roc_auc[i] = auc(fpr[i], tpr[i])\n",
    "    overall_auc = roc_auc_score(y_test, y_pred, multi_class='ovr')\n",
    "    \n",
    "    print(f'Overall AUC:{overall_auc:.4f}')\n",
    "    \n",
    "    plt.figure(figsize=(8, 6))\n",
    "\n",
    "    for i in range(n_classes):\n",
    "        plt.plot(fpr[i], tpr[i], label='ROC curve of class {0} (area = {1:0.2f})'.format(i+1, roc_auc[i]))\n",
    "    \n",
    "    plt.plot([0, 1], [0, 1], 'k--')\n",
    "    plt.xlim([0.0, 1.0])\n",
    "    plt.ylim([0.0, 1.05])\n",
    "    plt.xlabel('False Positive Rate')\n",
    "    \n",
    "    plt.ylabel('True Positive Rate')\n",
    "    \n",
    "    plt.title('Receiver Operating Characteristic')\n",
    "    \n",
    "    plt.legend(loc='lower right')\n",
    "    \n",
    "    plt.show()"
   ]
  },
  {
   "cell_type": "code",
   "execution_count": 159,
   "id": "e8fefd4532730fd1",
   "metadata": {
    "ExecuteTime": {
     "end_time": "2023-11-02T12:40:09.204444800Z",
     "start_time": "2023-11-02T12:40:08.877134100Z"
    }
   },
   "outputs": [
    {
     "name": "stdout",
     "output_type": "stream",
     "text": [
      "Overall AUC:0.9968\n"
     ]
    },
    {
     "data": {
      "image/png": "[encoded data removed]",
      "text/plain": [
       "<Figure size 800x600 with 1 Axes>"
      ]
     },
     "metadata": {},
     "output_type": "display_data"
    }
   ],
   "source": [
    "y_score = clf.predict_proba(X_test)\n",
    "get_roc_curve(y_test, y_score)"
   ]
  },
  {
   "cell_type": "code",
   "execution_count": 160,
   "id": "b72c3a296287c716",
   "metadata": {
    "ExecuteTime": {
     "end_time": "2023-11-02T12:40:09.206443300Z",
     "start_time": "2023-11-02T12:40:09.183832Z"
    }
   },
   "outputs": [
    {
     "name": "stdout",
     "output_type": "stream",
     "text": [
      "              precision    recall  f1-score   support\n",
      "\n",
      "           0       0.98      1.00      0.99       235\n",
      "           1       0.96      0.90      0.93        83\n",
      "           2       0.93      0.82      0.87        17\n",
      "           3       0.71      0.91      0.80        11\n",
      "\n",
      "    accuracy                           0.97       346\n",
      "   macro avg       0.90      0.91      0.90       346\n",
      "weighted avg       0.97      0.97      0.97       346\n"
     ]
    }
   ],
   "source": [
    "print(classification_report(y_test, y_pred))"
   ]
  },
  {
   "cell_type": "markdown",
   "id": "e2d9b0bd0312aa28",
   "metadata": {},
   "source": [
    "#### Random Forest + Grid Search"
   ]
  },
  {
   "cell_type": "code",
   "execution_count": 161,
   "id": "9103ee41c1f76372",
   "metadata": {
    "ExecuteTime": {
     "end_time": "2023-11-02T12:40:09.221636700Z",
     "start_time": "2023-11-02T12:40:09.198819400Z"
    }
   },
   "outputs": [],
   "source": [
    "param_grid = {\n",
    "    'n_estimators': [100, 200, 500, 1000, 2000],\n",
    "    'max_depth': [10, 20, 30],\n",
    "}\n",
    "\n",
    "rf = RandomForestClassifier()\n",
    "grid_search = GridSearchCV(estimator=rf, param_grid=param_grid, cv=5, scoring='accuracy')"
   ]
  },
  {
   "cell_type": "code",
   "execution_count": 162,
   "id": "4f6975a843e7aec8",
   "metadata": {
    "ExecuteTime": {
     "end_time": "2023-11-02T12:41:46.796385100Z",
     "start_time": "2023-11-02T12:40:09.215034400Z"
    }
   },
   "outputs": [
    {
     "name": "stdout",
     "output_type": "stream",
     "text": [
      "The best params: {'max_depth': 20, 'n_estimators': 500}\n",
      "The best score: 0.9601946319259141\n",
      "CPU times: total: 33.3 s\n",
      "Wall time: 1min 37s\n"
     ]
    }
   ],
   "source": [
    "%%time\n",
    "grid_search.fit(X_train, y_train)\n",
    "print(\"The best params:\", grid_search.best_params_)\n",
    "print(\"The best score:\", grid_search.best_score_)"
   ]
  },
  {
   "cell_type": "code",
   "execution_count": 163,
   "id": "2aa26560f86891a0",
   "metadata": {
    "ExecuteTime": {
     "end_time": "2023-11-02T12:41:46.920999600Z",
     "start_time": "2023-11-02T12:41:46.793589Z"
    }
   },
   "outputs": [],
   "source": [
    "rf_best = grid_search.best_estimator_\n",
    "y_pred =rf_best.predict(X_test)\n",
    "y_score = rf_best.predict_proba(X_test)"
   ]
  },
  {
   "cell_type": "code",
   "execution_count": 164,
   "id": "2abc9bdbd3899bae",
   "metadata": {
    "ExecuteTime": {
     "end_time": "2023-11-02T12:41:46.930385400Z",
     "start_time": "2023-11-02T12:41:46.916997400Z"
    }
   },
   "outputs": [
    {
     "name": "stdout",
     "output_type": "stream",
     "text": [
      "Accuracy: 0.9682\n"
     ]
    }
   ],
   "source": [
    "print(f'Accuracy: {accuracy_score(y_test, y_pred):.4f}')"
   ]
  },
  {
   "cell_type": "code",
   "execution_count": 165,
   "id": "c32c86e00ca6dfee",
   "metadata": {
    "ExecuteTime": {
     "end_time": "2023-11-02T12:41:47.182042500Z",
     "start_time": "2023-11-02T12:41:46.943410600Z"
    }
   },
   "outputs": [
    {
     "data": {
      "image/png": "[encoded data removed]",
      "text/plain": [
       "<Figure size 640x480 with 2 Axes>"
      ]
     },
     "metadata": {},
     "output_type": "display_data"
    }
   ],
   "source": [
    "get_confusion_matrix(y_test, y_pred)"
   ]
  },
  {
   "cell_type": "code",
   "execution_count": 166,
   "id": "b824c23edb619fba",
   "metadata": {
    "ExecuteTime": {
     "end_time": "2023-11-02T12:41:47.543177700Z",
     "start_time": "2023-11-02T12:41:47.184051600Z"
    }
   },
   "outputs": [
    {
     "name": "stdout",
     "output_type": "stream",
     "text": [
      "Overall AUC:0.9956\n"
     ]
    },
    {
     "data": {
      "image/png": "[encoded data removed]",
      "text/plain": [
       "<Figure size 800x600 with 1 Axes>"
      ]
     },
     "metadata": {},
     "output_type": "display_data"
    }
   ],
   "source": [
    "get_roc_curve(y_test, y_score)"
   ]
  },
  {
   "cell_type": "code",
   "execution_count": 167,
   "id": "1e03efb2477b207c",
   "metadata": {
    "ExecuteTime": {
     "end_time": "2023-11-02T12:41:47.558697300Z",
     "start_time": "2023-11-02T12:41:47.531234100Z"
    }
   },
   "outputs": [
    {
     "name": "stdout",
     "output_type": "stream",
     "text": [
      "              precision    recall  f1-score   support\n",
      "\n",
      "           0       0.99      1.00      0.99       235\n",
      "           1       0.96      0.92      0.94        83\n",
      "           2       0.93      0.82      0.87        17\n",
      "           3       0.71      0.91      0.80        11\n",
      "\n",
      "    accuracy                           0.97       346\n",
      "   macro avg       0.90      0.91      0.90       346\n",
      "weighted avg       0.97      0.97      0.97       346\n"
     ]
    }
   ],
   "source": [
    "print(classification_report(y_test, y_pred))"
   ]
  },
  {
   "cell_type": "markdown",
   "id": "58ec5287eb405ce7",
   "metadata": {},
   "source": [
    "#### XGBoost + Grid Search"
   ]
  },
  {
   "cell_type": "code",
   "execution_count": 168,
   "id": "873fd9592a416bf6",
   "metadata": {
    "ExecuteTime": {
     "end_time": "2023-11-02T12:41:47.574273Z",
     "start_time": "2023-11-02T12:41:47.547174900Z"
    }
   },
   "outputs": [],
   "source": [
    "xgboost_rf = XGBRFClassifier()\n",
    "grid_search_xgboost_rf = GridSearchCV(estimator=xgboost_rf, param_grid=param_grid, cv=5, scoring='accuracy')"
   ]
  },
  {
   "cell_type": "code",
   "execution_count": 169,
   "id": "b0f2fbf96c746835",
   "metadata": {
    "ExecuteTime": {
     "end_time": "2023-11-02T12:43:46.392321700Z",
     "start_time": "2023-11-02T12:41:47.562738Z"
    }
   },
   "outputs": [
    {
     "name": "stdout",
     "output_type": "stream",
     "text": [
      "Best Parameters: {'max_depth': 20, 'n_estimators': 200}\n",
      "Best Score: 0.9616412912677236\n",
      "CPU times: total: 11min 15s\n",
      "Wall time: 1min 58s\n"
     ]
    }
   ],
   "source": [
    "%%time\n",
    "\n",
    "grid_search_xgboost_rf.fit(X_train, y_train)\n",
    "print(\"Best Parameters:\", grid_search_xgboost_rf.best_params_)\n",
    "print(\"Best Score:\", grid_search_xgboost_rf.best_score_)"
   ]
  },
  {
   "cell_type": "code",
   "execution_count": 170,
   "id": "40c1ed035cea7a5e",
   "metadata": {
    "ExecuteTime": {
     "end_time": "2023-11-02T12:43:46.446128500Z",
     "start_time": "2023-11-02T12:43:46.389295800Z"
    }
   },
   "outputs": [],
   "source": [
    "best_xgboost_rf_classifier = grid_search_xgboost_rf.best_estimator_\n",
    "y_pred_bst = best_xgboost_rf_classifier.predict(X_test)\n",
    "y_score_bst = best_xgboost_rf_classifier.predict_proba(X_test)"
   ]
  },
  {
   "cell_type": "code",
   "execution_count": 171,
   "id": "71971d55a6db6e9f",
   "metadata": {
    "ExecuteTime": {
     "end_time": "2023-11-02T12:43:46.447131300Z",
     "start_time": "2023-11-02T12:43:46.419568100Z"
    }
   },
   "outputs": [
    {
     "name": "stdout",
     "output_type": "stream",
     "text": [
      "Accuracy: 0.9595\n"
     ]
    }
   ],
   "source": [
    "print(f'Accuracy: {accuracy_score(y_test, y_pred_bst):.4f}')"
   ]
  },
  {
   "cell_type": "code",
   "execution_count": 172,
   "id": "41ca71f858973d4e",
   "metadata": {
    "ExecuteTime": {
     "end_time": "2023-11-02T12:43:46.701350Z",
     "start_time": "2023-11-02T12:43:46.435612100Z"
    }
   },
   "outputs": [
    {
     "data": {
      "image/png": "[encoded data removed]",
      "text/plain": [
       "<Figure size 640x480 with 2 Axes>"
      ]
     },
     "metadata": {},
     "output_type": "display_data"
    }
   ],
   "source": [
    "get_confusion_matrix(y_test, y_pred_bst)"
   ]
  },
  {
   "cell_type": "code",
   "execution_count": 173,
   "id": "fa66a1e3a0690c",
   "metadata": {
    "ExecuteTime": {
     "end_time": "2023-11-02T12:43:46.979364600Z",
     "start_time": "2023-11-02T12:43:46.702356200Z"
    }
   },
   "outputs": [
    {
     "name": "stdout",
     "output_type": "stream",
     "text": [
      "Overall AUC:0.9961\n"
     ]
    },
    {
     "data": {
      "image/png": "[encoded data removed]",
      "text/plain": [
       "<Figure size 800x600 with 1 Axes>"
      ]
     },
     "metadata": {},
     "output_type": "display_data"
    }
   ],
   "source": [
    "get_roc_curve(y_test, y_score_bst)"
   ]
  },
  {
   "cell_type": "code",
   "execution_count": 174,
   "id": "371f1673dcf34f67",
   "metadata": {
    "ExecuteTime": {
     "end_time": "2023-11-02T12:43:47.089371600Z",
     "start_time": "2023-11-02T12:43:46.968593200Z"
    }
   },
   "outputs": [
    {
     "name": "stdout",
     "output_type": "stream",
     "text": [
      "              precision    recall  f1-score   support\n",
      "\n",
      "           0       0.99      1.00      0.99       235\n",
      "           1       0.96      0.88      0.92        83\n",
      "           2       0.94      0.88      0.91        17\n",
      "           3       0.59      0.91      0.71        11\n",
      "\n",
      "    accuracy                           0.96       346\n",
      "   macro avg       0.87      0.92      0.88       346\n",
      "weighted avg       0.97      0.96      0.96       346\n"
     ]
    }
   ],
   "source": [
    "print(classification_report(y_test, y_pred_bst))"
   ]
  },
  {
   "cell_type": "markdown",
   "id": "7934ec4b68f70655",
   "metadata": {},
   "source": [
    "In this lab, I analyzed a car valuation dataset and applied two classification models\n",
    "Random Forest Classifier and XGBoost. The dataset was examined, pre-processed, and divided into\n",
    "training and test sets. Both models were trained and optimized using GridSearchCV to find the best hyperparameters.\n",
    "Random Forest Classifier and XGBoost Random Forest Classifier demonstrated competitiveness as indicated by\n",
    "in terms of accuracy, confusion matrix, ROC curve, and classification report. These results emphasize\n",
    "the importance of data preprocessing, model tuning, and thorough evaluation in machine learning applications. Random Forest with the selected hyperparameters using Grid Search performed slightly better than Random Forest with the standard ones. XGBoost is slightly worse than Random Forest.\n",
    "\n",
    "Translated with DeepL.com (free version)"
   ]
  }
 ],
 "metadata": {
  "kernelspec": {
   "display_name": "Python 3 (ipykernel)",
   "language": "python",
   "name": "python3"
  },
  "language_info": {
   "codemirror_mode": {
    "name": "ipython",
    "version": 3
   },
   "file_extension": ".py",
   "mimetype": "text/x-python",
   "name": "python",
   "nbconvert_exporter": "python",
   "pygments_lexer": "ipython3",
   "version": "3.10.9"
  }
 },
 "nbformat": 4,
 "nbformat_minor": 5
}
